{
 "cells": [
  {
   "cell_type": "code",
   "execution_count": 17,
   "id": "1f3251b7-75da-428c-8afb-baf1f1675b3c",
   "metadata": {},
   "outputs": [
    {
     "name": "stdout",
     "output_type": "stream",
     "text": [
      "### sorting\n"
     ]
    },
    {
     "ename": "ValueError",
     "evalue": "invalid literal for int() with base 10: 'KB469740.1'",
     "output_type": "error",
     "traceback": [
      "\u001b[0;31m---------------------------------------------------------------------------\u001b[0m",
      "\u001b[0;31mValueError\u001b[0m                                Traceback (most recent call last)",
      "\u001b[0;32m<ipython-input-17-6f5fa1113ef3>\u001b[0m in \u001b[0;36m<module>\u001b[0;34m\u001b[0m\n\u001b[1;32m     36\u001b[0m             \u001b[0mchr\u001b[0m\u001b[0;34m=\u001b[0m\u001b[0;36m28\u001b[0m\u001b[0;34m\u001b[0m\u001b[0;34m\u001b[0m\u001b[0m\n\u001b[1;32m     37\u001b[0m         \u001b[0;32melse\u001b[0m\u001b[0;34m:\u001b[0m\u001b[0;34m\u001b[0m\u001b[0;34m\u001b[0m\u001b[0m\n\u001b[0;32m---> 38\u001b[0;31m             \u001b[0mchr\u001b[0m\u001b[0;34m=\u001b[0m\u001b[0mint\u001b[0m\u001b[0;34m(\u001b[0m\u001b[0;34m(\u001b[0m\u001b[0;34m(\u001b[0m\u001b[0min_indi\u001b[0m\u001b[0;34m[\u001b[0m\u001b[0;36m0\u001b[0m\u001b[0;34m]\u001b[0m\u001b[0;34m.\u001b[0m\u001b[0mreplace\u001b[0m\u001b[0;34m(\u001b[0m\u001b[0;34m'X'\u001b[0m\u001b[0;34m,\u001b[0m\u001b[0;34m'23'\u001b[0m\u001b[0;34m)\u001b[0m\u001b[0;34m)\u001b[0m\u001b[0;34m.\u001b[0m\u001b[0mreplace\u001b[0m\u001b[0;34m(\u001b[0m\u001b[0;34m'Y'\u001b[0m\u001b[0;34m,\u001b[0m\u001b[0;34m'24'\u001b[0m\u001b[0;34m)\u001b[0m\u001b[0;34m)\u001b[0m\u001b[0;34m.\u001b[0m\u001b[0mreplace\u001b[0m\u001b[0;34m(\u001b[0m\u001b[0;34m'M'\u001b[0m\u001b[0;34m,\u001b[0m\u001b[0;34m'25'\u001b[0m\u001b[0;34m)\u001b[0m\u001b[0;34m)\u001b[0m\u001b[0;31m#수정\u001b[0m\u001b[0;34m\u001b[0m\u001b[0;34m\u001b[0m\u001b[0m\n\u001b[0m\u001b[1;32m     39\u001b[0m \u001b[0;34m\u001b[0m\u001b[0m\n\u001b[1;32m     40\u001b[0m         \u001b[0;32mif\u001b[0m \u001b[0mn_chr2\u001b[0m\u001b[0;34m[\u001b[0m\u001b[0;36m0\u001b[0m\u001b[0;34m:\u001b[0m\u001b[0;36m2\u001b[0m\u001b[0;34m]\u001b[0m\u001b[0;34m==\u001b[0m\u001b[0;34m'GL'\u001b[0m\u001b[0;34m:\u001b[0m\u001b[0;34m\u001b[0m\u001b[0;34m\u001b[0m\u001b[0m\n",
      "\u001b[0;31mValueError\u001b[0m: invalid literal for int() with base 10: 'KB469740.1'"
     ]
    }
   ],
   "source": [
    "#Arg1: delly output\n",
    "\n",
    "#other chromosome number change including 'JH...'\n",
    "\n",
    "import sys\n",
    "from operator import itemgetter\n",
    "print('### sorting')\n",
    "#print(sys.argv[1])\n",
    "in_file=open('/home/mjkim/exercise_221125/05_delly/N1-S1.delly.vcf')\n",
    "out_file=open('N1-S1.delly.vcf.test.sort','w')\n",
    "dt=[]\n",
    "in_line=in_file.readline().strip()\n",
    "while in_line:\n",
    "    in_indi=in_line.split('\\t')\n",
    "    in_indi[0]=in_indi[0].replace('chr','')#수정\n",
    "    if in_line[0]=='#':\n",
    "        out_file.write(in_line+'\\n')\n",
    "    else:\n",
    "        n_chr1=in_indi[0]\n",
    "        n_chr2=(in_indi[7].split('CHR2=')[1]).split(';')[0].replace('chr','')#수정\n",
    "        n_end=(in_indi[7].split('END=')[1]).split(';')[0]\n",
    "        ter1=(in_indi[7].split('CT=')[1]).split('to')[0]\n",
    "        ter2=((in_indi[7].split('CT=')[1]).split('to')[1]).split(';')[0]\n",
    "        svtype=in_indi[2][0:3]\n",
    "        if n_chr1 != n_chr2:\n",
    "            svtype = 'TRA'\n",
    "            in_indi[2]='TRA'+in_indi[2][3:]\n",
    "\n",
    "        if in_indi[0][0:2]=='GL':\n",
    "            chr=25\n",
    "        elif in_indi[0][0:3]=='NC_':\n",
    "            chr=26\n",
    "        elif in_indi[0]=='hs37d5':\n",
    "            chr = 27\n",
    "        elif in_indi[0][0:2]=='JH':\n",
    "            chr=28\n",
    "        else:\n",
    "            chr=int(((in_indi[0].replace('X','23')).replace('Y','24')).replace('M','25'))#수정\n",
    "\n",
    "        if n_chr2[0:2]=='GL':\n",
    "            chr2=25\n",
    "        elif n_chr2[0:3]=='NC_':\n",
    "            chr2=26\n",
    "        elif n_chr2 == 'hs37d5':\n",
    "            chr2 = 27\n",
    "        elif n_chr2[0:2]=='JH':\n",
    "            chr2=28\n",
    "        else:\n",
    "            chr2=int(((n_chr2.replace('X','23')).replace('Y','24')).replace('M','25'))#수정\n",
    "            org_info=n_chr1+'\\t'+'\\t'.join(in_indi[1:])\n",
    "            rvs_info=n_chr2+'\\t'+n_end+'\\t'+in_indi[2]+'\\t.\\t'+'\\t'.join(in_indi[4:7])+'\\t'+in_indi[7].split('CHR2=')[0]+'CHR2='+in_indi[0]+';END='+in_indi[1]+';PE='+(in_indi[7].split(';PE=')[1]).split(';CT=')[0]+';CT='+ter2+'to'+ter1+';'+';'.join((in_indi[7].split(';CT=')[1]).split(';')[1:])+'\\t'+'\\t'.join(in_indi[8:])\n",
    "        if svtype != 'TRA':\n",
    "            dt.append([chr,int(in_indi[1]),chr2, int(n_end),org_info])   # Append original info\n",
    "        elif svtype == 'TRA':\n",
    "            if chr < chr2:\n",
    "                dt.append([chr,int(in_indi[1]),chr2, int(n_end),org_info])   # Append original info\n",
    "            elif chr > chr2:\n",
    "                dt.append([chr2,int(n_end),chr, int(in_indi[1]),rvs_info]) # Append reverse info\n",
    "    in_line=in_file.readline().strip()\n",
    "\n",
    "print('sorting')\n",
    "dt.sort(key=itemgetter(0,1,2,3))\n",
    "\n",
    "print('writing')\n",
    "for [a,b,c,d,e] in dt:\n",
    "    out_file.write(e+'\\n')\n",
    "    \n",
    "out_file.close()\n",
    "\n"
   ]
  },
  {
   "cell_type": "code",
   "execution_count": null,
   "id": "e2872411-5afb-47a9-b045-dcecca2cecd4",
   "metadata": {},
   "outputs": [],
   "source": []
  }
 ],
 "metadata": {
  "kernelspec": {
   "display_name": "Python 3",
   "language": "python",
   "name": "python3"
  },
  "language_info": {
   "codemirror_mode": {
    "name": "ipython",
    "version": 3
   },
   "file_extension": ".py",
   "mimetype": "text/x-python",
   "name": "python",
   "nbconvert_exporter": "python",
   "pygments_lexer": "ipython3",
   "version": "3.6.8"
  }
 },
 "nbformat": 4,
 "nbformat_minor": 5
}
